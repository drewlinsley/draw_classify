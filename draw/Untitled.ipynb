{
 "cells": [
  {
   "cell_type": "code",
   "execution_count": 4,
   "metadata": {
    "collapsed": false
   },
   "outputs": [
    {
     "ename": "ImportError",
     "evalue": "No module named draw",
     "output_type": "error",
     "traceback": [
      "\u001b[0;31m---------------------------------------------------------------------------\u001b[0m",
      "\u001b[0;31mImportError\u001b[0m                               Traceback (most recent call last)",
      "\u001b[0;32m<ipython-input-4-c01ec9d68a0a>\u001b[0m in \u001b[0;36m<module>\u001b[0;34m()\u001b[0m\n\u001b[1;32m     41\u001b[0m \u001b[0;32mexcept\u001b[0m \u001b[0mImportError\u001b[0m\u001b[0;34m:\u001b[0m\u001b[0;34m\u001b[0m\u001b[0m\n\u001b[1;32m     42\u001b[0m     \u001b[0;32mpass\u001b[0m\u001b[0;34m\u001b[0m\u001b[0m\n\u001b[0;32m---> 43\u001b[0;31m \u001b[0;32mfrom\u001b[0m \u001b[0mdraw\u001b[0m\u001b[0;34m.\u001b[0m\u001b[0mdraw\u001b[0m \u001b[0;32mimport\u001b[0m \u001b[0;34m*\u001b[0m\u001b[0;34m\u001b[0m\u001b[0m\n\u001b[0m\u001b[1;32m     44\u001b[0m \u001b[0;32mfrom\u001b[0m \u001b[0mdraw\u001b[0m\u001b[0;34m.\u001b[0m\u001b[0msamplecheckpoint\u001b[0m \u001b[0;32mimport\u001b[0m \u001b[0mSampleCheckpoint\u001b[0m\u001b[0;34m\u001b[0m\u001b[0m\n\u001b[1;32m     45\u001b[0m \u001b[0;32mfrom\u001b[0m \u001b[0mdraw\u001b[0m\u001b[0;34m.\u001b[0m\u001b[0mpartsonlycheckpoint\u001b[0m \u001b[0;32mimport\u001b[0m \u001b[0mPartsOnlyCheckpoint\u001b[0m\u001b[0;34m\u001b[0m\u001b[0m\n",
      "\u001b[0;31mImportError\u001b[0m: No module named draw"
     ]
    }
   ],
   "source": [
    "from __future__ import division, print_function\n",
    "\n",
    "import logging\n",
    "import numpy as np\n",
    "\n",
    "FORMAT = '[%(asctime)s] %(name)-15s %(message)s'\n",
    "DATEFMT = \"%H:%M:%S\"\n",
    "logging.basicConfig(format=FORMAT, datefmt=DATEFMT, level=logging.INFO)\n",
    "\n",
    "import os\n",
    "import theano\n",
    "import theano.tensor as T\n",
    "import fuel\n",
    "import ipdb\n",
    "import time\n",
    "import cPickle as pickle\n",
    "\n",
    "from argparse import ArgumentParser\n",
    "from theano import tensor\n",
    "\n",
    "from fuel.streams import DataStream\n",
    "from fuel.schemes import SequentialScheme\n",
    "from fuel.transformers import Flatten\n",
    "\n",
    "from blocks.algorithms import GradientDescent, CompositeRule, StepClipping, RMSProp, Adam\n",
    "from blocks.bricks import Tanh, Identity\n",
    "from blocks.bricks.cost import BinaryCrossEntropy\n",
    "from blocks.bricks.recurrent import SimpleRecurrent, LSTM\n",
    "from blocks.initialization import Constant, IsotropicGaussian, Orthogonal\n",
    "from blocks.filter import VariableFilter\n",
    "from blocks.graph import ComputationGraph\n",
    "from blocks.roles import PARAMETER\n",
    "from blocks.monitoring import aggregation\n",
    "from blocks.extensions import FinishAfter, Timing, Printing, ProgressBar\n",
    "from blocks.extensions.saveload import Checkpoint\n",
    "from blocks.extensions.monitoring import DataStreamMonitoring, TrainingDataMonitoring\n",
    "from blocks.main_loop import MainLoop\n",
    "from blocks.model import Model\n",
    "try:\n",
    "    from blocks.extras import Plot\n",
    "except ImportError:\n",
    "    pass\n",
    "import draw.datasets as datasets\n",
    "from draw.draw import *\n",
    "from draw.samplecheckpoint import SampleCheckpoint\n",
    "from draw.partsonlycheckpoint import PartsOnlyCheckpoint\n"
   ]
  },
  {
   "cell_type": "code",
   "execution_count": 5,
   "metadata": {
    "collapsed": true
   },
   "outputs": [],
   "source": [
    "draw."
   ]
  },
  {
   "cell_type": "code",
   "execution_count": null,
   "metadata": {
    "collapsed": true
   },
   "outputs": [],
   "source": []
  }
 ],
 "metadata": {
  "kernelspec": {
   "display_name": "Python 2",
   "language": "python",
   "name": "python2"
  },
  "language_info": {
   "codemirror_mode": {
    "name": "ipython",
    "version": 2
   },
   "file_extension": ".py",
   "mimetype": "text/x-python",
   "name": "python",
   "nbconvert_exporter": "python",
   "pygments_lexer": "ipython2",
   "version": "2.7.11"
  }
 },
 "nbformat": 4,
 "nbformat_minor": 0
}
